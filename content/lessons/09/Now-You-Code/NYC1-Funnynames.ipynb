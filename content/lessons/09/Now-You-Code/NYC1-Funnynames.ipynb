{
  "cells": [
    {
      "metadata": {},
      "cell_type": "markdown",
      "source": "# Now You Code 1: Funny Names\n\nWrite a program to \n\n 1. read the file `NYC1-funnynames.txt` into a list, by completing the provided user-defined function\n 2. sort the list of names\n 3. print the list of names one name per line.\n\nSample Program Output:\n```\nAlma Frienzergon\nKent Belevit\nMitch Again\nOliver Stuffismisson\nSandi Shores\nSarah Bellum\nWillie Pas-D'course\nYolanda Ismyland\n```\n"
    },
    {
      "metadata": {},
      "cell_type": "markdown",
      "source": "## Step 1: Problem Analysis for `read_names` user-defined function\n\nInputs: None\n\nOutputs: a list of names\n\nAlgorithm (Steps in Program):\n    \n    \n\n"
    },
    {
      "metadata": {
        "trusted": true
      },
      "cell_type": "code",
      "source": "# Step 2: write function\n# this function reads from \"NYC-funnynames.txt\" places the names in a list.\n# program should return a list of names\ndef read_names('NYC1-funnynames.txt'):\n    names = ['Alma Frienzergon', 'Kent Belevit', 'Mitch Again', 'Oliver Stuffismisson', 'Sandi ShoresSarah Bellum', 'Willie Pas-D course', 'Yoanda Ismyland']\n    #todo write code here\n",
      "execution_count": 1,
      "outputs": [
        {
          "output_type": "error",
          "ename": "SyntaxError",
          "evalue": "EOL while scanning string literal (<ipython-input-1-266bf7d7c0e8>, line 4)",
          "traceback": [
            "\u001b[0;36m  File \u001b[0;32m\"<ipython-input-1-266bf7d7c0e8>\"\u001b[0;36m, line \u001b[0;32m4\u001b[0m\n\u001b[0;31m    def read_names('NYC1-funnynames.txt):\u001b[0m\n\u001b[0m                                         ^\u001b[0m\n\u001b[0;31mSyntaxError\u001b[0m\u001b[0;31m:\u001b[0m EOL while scanning string literal\n"
          ]
        }
      ]
    },
    {
      "metadata": {
        "collapsed": true
      },
      "cell_type": "markdown",
      "source": "## Step 3: Problem Analysis for entire program\n\nInputs:\n\nOutputs:\n\nAlgorithm (Steps in Program):\n\n"
    },
    {
      "metadata": {
        "collapsed": true,
        "trusted": false
      },
      "cell_type": "code",
      "source": "## Step 4: write entire program making sure to use read_names \n",
      "execution_count": 2,
      "outputs": []
    },
    {
      "metadata": {},
      "cell_type": "markdown",
      "source": "## Step 5: Questions\n\n1. Does writing the `read_names` function clarify the intent of the main program in step 4? Why or why not? - yes because it's intended to read the file of names. \n\n2. Find the `NYC-funnynames.txt` file in your `lessons/09` folder. Open the file and add the name `Euron Trouble` to the file, then save and close it. Re-run the program in step 4. Do you see the new name in the program output? Explain why or why not? - no because it wasnt part of that file in the first place.\n"
    },
    {
      "metadata": {},
      "cell_type": "markdown",
      "source": "## Reminder of Evaluation Criteria\n\n1. What the problem attempted (analysis, code, and answered questions) ?\n2. What the problem analysis thought out? (does the program match the plan?)\n3. Does the code execute without syntax error?\n4. Does the code solve the intended problem?\n5. Is the code well written? (easy to understand, modular, and self-documenting, handles errors)\n"
    },
    {
      "metadata": {
        "collapsed": true,
        "trusted": false
      },
      "cell_type": "code",
      "source": "",
      "execution_count": null,
      "outputs": []
    }
  ],
  "metadata": {
    "anaconda-cloud": {},
    "kernelspec": {
      "name": "python3",
      "display_name": "Python 3",
      "language": "python"
    },
    "language_info": {
      "mimetype": "text/x-python",
      "nbconvert_exporter": "python",
      "name": "python",
      "file_extension": ".py",
      "version": "3.5.4",
      "pygments_lexer": "ipython3",
      "codemirror_mode": {
        "version": 3,
        "name": "ipython"
      }
    }
  },
  "nbformat": 4,
  "nbformat_minor": 1
}