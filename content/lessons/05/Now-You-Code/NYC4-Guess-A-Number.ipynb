{
  "cells": [
    {
      "metadata": {},
      "cell_type": "markdown",
      "source": "# Now You Code 4: Guess A Number\n\nWrite a program to play the classic \"Guess a number\" game.\n\nIn this game the computer selects a random number between 1 and 10.\nIt's your job to guess the number. Whenever you guess, the computer will\ngive you a hint of higher or lower. This process repeats until you guess\nthe number, after which the computer reports the number of guesses it took you.\n\nFor Example:\n\nI'm thinking of a number between 1 and 10...\nYour guess: 5\nToo low. Guess higher.\nYour guess: 7\nToo high. Guess lower.\nYour guess: 6\nYou guessed it in 3 tries.\n\nYour loop should continue until your input guess equals the\ncomputer generated random number.\n\n### How do you make Python generate a random number? "
    },
    {
      "metadata": {
        "trusted": false
      },
      "cell_type": "code",
      "source": "# Sample code which demostrates how to generate a number between 1 and 10\nimport random \nnumber = random.randint(1,10)\nprint(number)",
      "execution_count": 20,
      "outputs": [
        {
          "name": "stdout",
          "output_type": "stream",
          "text": "4\n"
        }
      ]
    },
    {
      "metadata": {},
      "cell_type": "markdown",
      "source": "Run the cell above a couple of times. Notice how each time you execute the code, it comes up with a different number. \n\nHere's a breakdown of the code\n\n```\nline 1 imports the random module\nline 2 randomly selects an integer between 1 and 10\nline 3 prints the number\n```\n\nNow that you understand how to generate a random number, try to design then write code for the program. The first step in your program should be to generate the random number."
    },
    {
      "metadata": {
        "collapsed": true
      },
      "cell_type": "markdown",
      "source": "## Step 1: Problem Analysis \n\nInputs: import random, random number\n\nOutputs: the random number, print the random number\n\nAlgorithm (Steps in Program):\n\n\n"
    },
    {
      "metadata": {
        "trusted": true
      },
      "cell_type": "code",
      "source": "import random \n\nclass Error(Exception):\n   \"\"\"Base class for other exceptions\"\"\"\n   pass\n\nclass ValueTooSmallError(Error):\n   \"\"\"Raised when the input value is too small\"\"\"\n   pass\n\nclass ValueTooLargeError(Error):\n   \"\"\"Raised when the input value is too large\"\"\"\n   pass\n\n\nnumber = random.randint(0,10)\n\nwhile True:\n   try:\n       i_num = int(input(\"Enter a number: \"))\n       if i_num < number:\n           raise ValueTooSmallError\n       elif i_num > number:\n           raise ValueTooLargeError\n       break\n   except ValueTooSmallError:\n       print(\"This value is too small, try again!\")\n       print()\n   except ValueTooLargeError:\n       print(\"This value is too large, try again!\")\n       print()\n\nprint(\"Congratulations! You guessed it correctly.\")",
      "execution_count": 45,
      "outputs": [
        {
          "output_type": "stream",
          "name": "stdout",
          "text": "Enter a number: 2\nThis value is too small, try again!\n\nEnter a number: 3\nThis value is too small, try again!\n\nEnter a number: 1\nThis value is too small, try again!\n\nEnter a number: 4\nThis value is too small, try again!\n\nEnter a number: 5\nThis value is too small, try again!\n\nEnter a number: 6\nThis value is too small, try again!\n\nEnter a number: 7\nThis value is too small, try again!\n\nEnter a number: 8\nThis value is too small, try again!\n\nEnter a number: 8\nThis value is too small, try again!\n\nEnter a number: 9\nThis value is too small, try again!\n\nEnter a number: 10\nCongratulations! You guessed it correctly.\n"
        }
      ]
    },
    {
      "metadata": {},
      "cell_type": "markdown",
      "source": "### Step 3: Questions\n\n1. Which loop did you use to solve the problem? - i used an indefinite loop. What is a definite or indefinite loop? - A definite loop is a loop where you know the exact number of iterations prior to entering the loop.\n\n2. Modify this program to allow you to guess a number between 1 and 100. How much of your code did you need to change to make this work? just one line of code. \n\n3. This program is a good example of a difficult problem to conceptualize which has a simple solution when you look at actual lines of code. I assume you did not write this in a single try, so explain where you got stuck and describe your approach to overcoming it.\ni got stuck trying to get the random number generation to work but i ended up victourious because i dedided to try things i never used and to see if they really work and suprisingly it did\n"
    },
    {
      "metadata": {},
      "cell_type": "markdown",
      "source": "## Reminder of Evaluation Criteria\n\n1. What the problem attempted (analysis, code, and answered questions) ?\n2. What the problem analysis thought out? (does the program match the plan?)\n3. Does the code execute without syntax error?\n4. Does the code solve the intended problem?\n5. Is the code well written? (easy to understand, modular, and self-documenting, handles errors)\n"
    },
    {
      "metadata": {
        "trusted": true
      },
      "cell_type": "code",
      "source": "import random \n\nclass Error(Exception):\n   \"\"\"Base class for other exceptions\"\"\"\n   pass\n\nclass ValueTooSmallError(Error):\n   \"\"\"Raised when the input value is too small\"\"\"\n   pass\n\nclass ValueTooLargeError(Error):\n   \"\"\"Raised when the input value is too large\"\"\"\n   pass\n\n\nnumber = random.randint(0,100)\n\nwhile True:\n   try:\n       i_num = int(input(\"Enter a number: \"))\n       if i_num < number:\n           raise ValueTooSmallError\n       elif i_num > number:\n           raise ValueTooLargeError\n       break\n   except ValueTooSmallError:\n       print(\"This value is too small, try again!\")\n       print()\n   except ValueTooLargeError:\n       print(\"This value is too large, try again!\")\n       print()\n\nprint(\"Congratulations! You guessed it correctly.\")",
      "execution_count": 44,
      "outputs": [
        {
          "output_type": "stream",
          "name": "stdout",
          "text": "Enter a number: 100\nThis value is too large, try again!\n\nEnter a number: 99\nThis value is too large, try again!\n\nEnter a number: 3\nThis value is too small, try again!\n\nEnter a number: 6\nThis value is too small, try again!\n\nEnter a number: 89\nThis value is too large, try again!\n\nEnter a number: 1\nThis value is too small, try again!\n\nEnter a number: 2\nThis value is too small, try again!\n\nEnter a number: 3\nThis value is too small, try again!\n\nEnter a number: 4\nThis value is too small, try again!\n\nEnter a number: 5\nThis value is too small, try again!\n\nEnter a number: 6\nThis value is too small, try again!\n\nEnter a number: 7\nThis value is too small, try again!\n\nEnter a number: 11\nThis value is too small, try again!\n\nEnter a number: 38\nThis value is too small, try again!\n\nEnter a number: 89\nThis value is too large, try again!\n\nEnter a number: 67\nThis value is too large, try again!\n\nEnter a number: 45\nThis value is too large, try again!\n\nEnter a number: 90\nThis value is too large, try again!\n\nEnter a number: 20\nThis value is too small, try again!\n\nEnter a number: 30\nThis value is too small, try again!\n\nEnter a number: 40\nThis value is too small, try again!\n\nEnter a number: 50\nThis value is too large, try again!\n\nEnter a number: 60\nThis value is too large, try again!\n\nEnter a number: 77\nThis value is too large, try again!\n\nEnter a number: 21\nThis value is too small, try again!\n\nEnter a number: 431\nThis value is too large, try again!\n\nEnter a number: 31\nThis value is too small, try again!\n\nEnter a number: 78\nThis value is too large, try again!\n\nEnter a number: 65\nThis value is too large, try again!\n\nEnter a number: 56\nThis value is too large, try again!\n\nEnter a number: 0\nThis value is too small, try again!\n\nEnter a number: 14\nThis value is too small, try again!\n\nEnter a number: 76\nThis value is too large, try again!\n\nEnter a number: 58\nThis value is too large, try again!\n\nEnter a number: 42\nThis value is too small, try again!\n\nEnter a number: 49\nThis value is too large, try again!\n\nEnter a number: 87\nThis value is too large, try again!\n\nEnter a number: 82\nThis value is too large, try again!\n\nEnter a number: 29\nThis value is too small, try again!\n\nEnter a number: 62\nThis value is too large, try again!\n\nEnter a number: 92\nThis value is too large, try again!\n\n"
        },
        {
          "output_type": "error",
          "ename": "KeyboardInterrupt",
          "evalue": "",
          "traceback": [
            "\u001b[0;31m---------------------------------------------------------------------------\u001b[0m",
            "\u001b[0;31mKeyboardInterrupt\u001b[0m                         Traceback (most recent call last)",
            "\u001b[0;32m~/anaconda3_420/lib/python3.5/site-packages/ipykernel/kernelbase.py\u001b[0m in \u001b[0;36m_input_request\u001b[0;34m(self, prompt, ident, parent, password)\u001b[0m\n\u001b[1;32m    726\u001b[0m             \u001b[0;32mtry\u001b[0m\u001b[0;34m:\u001b[0m\u001b[0;34m\u001b[0m\u001b[0m\n\u001b[0;32m--> 727\u001b[0;31m                 \u001b[0mident\u001b[0m\u001b[0;34m,\u001b[0m \u001b[0mreply\u001b[0m \u001b[0;34m=\u001b[0m \u001b[0mself\u001b[0m\u001b[0;34m.\u001b[0m\u001b[0msession\u001b[0m\u001b[0;34m.\u001b[0m\u001b[0mrecv\u001b[0m\u001b[0;34m(\u001b[0m\u001b[0mself\u001b[0m\u001b[0;34m.\u001b[0m\u001b[0mstdin_socket\u001b[0m\u001b[0;34m,\u001b[0m \u001b[0;36m0\u001b[0m\u001b[0;34m)\u001b[0m\u001b[0;34m\u001b[0m\u001b[0m\n\u001b[0m\u001b[1;32m    728\u001b[0m             \u001b[0;32mexcept\u001b[0m \u001b[0mException\u001b[0m\u001b[0;34m:\u001b[0m\u001b[0;34m\u001b[0m\u001b[0m\n",
            "\u001b[0;32m~/anaconda3_420/lib/python3.5/site-packages/jupyter_client/session.py\u001b[0m in \u001b[0;36mrecv\u001b[0;34m(self, socket, mode, content, copy)\u001b[0m\n\u001b[1;32m    795\u001b[0m         \u001b[0;32mtry\u001b[0m\u001b[0;34m:\u001b[0m\u001b[0;34m\u001b[0m\u001b[0m\n\u001b[0;32m--> 796\u001b[0;31m             \u001b[0mmsg_list\u001b[0m \u001b[0;34m=\u001b[0m \u001b[0msocket\u001b[0m\u001b[0;34m.\u001b[0m\u001b[0mrecv_multipart\u001b[0m\u001b[0;34m(\u001b[0m\u001b[0mmode\u001b[0m\u001b[0;34m,\u001b[0m \u001b[0mcopy\u001b[0m\u001b[0;34m=\u001b[0m\u001b[0mcopy\u001b[0m\u001b[0;34m)\u001b[0m\u001b[0;34m\u001b[0m\u001b[0m\n\u001b[0m\u001b[1;32m    797\u001b[0m         \u001b[0;32mexcept\u001b[0m \u001b[0mzmq\u001b[0m\u001b[0;34m.\u001b[0m\u001b[0mZMQError\u001b[0m \u001b[0;32mas\u001b[0m \u001b[0me\u001b[0m\u001b[0;34m:\u001b[0m\u001b[0;34m\u001b[0m\u001b[0m\n",
            "\u001b[0;32m~/anaconda3_420/lib/python3.5/site-packages/zmq/sugar/socket.py\u001b[0m in \u001b[0;36mrecv_multipart\u001b[0;34m(self, flags, copy, track)\u001b[0m\n\u001b[1;32m    394\u001b[0m         \"\"\"\n\u001b[0;32m--> 395\u001b[0;31m         \u001b[0mparts\u001b[0m \u001b[0;34m=\u001b[0m \u001b[0;34m[\u001b[0m\u001b[0mself\u001b[0m\u001b[0;34m.\u001b[0m\u001b[0mrecv\u001b[0m\u001b[0;34m(\u001b[0m\u001b[0mflags\u001b[0m\u001b[0;34m,\u001b[0m \u001b[0mcopy\u001b[0m\u001b[0;34m=\u001b[0m\u001b[0mcopy\u001b[0m\u001b[0;34m,\u001b[0m \u001b[0mtrack\u001b[0m\u001b[0;34m=\u001b[0m\u001b[0mtrack\u001b[0m\u001b[0;34m)\u001b[0m\u001b[0;34m]\u001b[0m\u001b[0;34m\u001b[0m\u001b[0m\n\u001b[0m\u001b[1;32m    396\u001b[0m         \u001b[0;31m# have first part already, only loop while more to receive\u001b[0m\u001b[0;34m\u001b[0m\u001b[0;34m\u001b[0m\u001b[0m\n",
            "\u001b[0;32mzmq/backend/cython/socket.pyx\u001b[0m in \u001b[0;36mzmq.backend.cython.socket.Socket.recv (zmq/backend/cython/socket.c:7291)\u001b[0;34m()\u001b[0m\n",
            "\u001b[0;32mzmq/backend/cython/socket.pyx\u001b[0m in \u001b[0;36mzmq.backend.cython.socket.Socket.recv (zmq/backend/cython/socket.c:7089)\u001b[0;34m()\u001b[0m\n",
            "\u001b[0;32mzmq/backend/cython/socket.pyx\u001b[0m in \u001b[0;36mzmq.backend.cython.socket._recv_copy (zmq/backend/cython/socket.c:2041)\u001b[0;34m()\u001b[0m\n",
            "\u001b[0;32m~/anaconda3_420/lib/python3.5/site-packages/zmq/backend/cython/checkrc.pxd\u001b[0m in \u001b[0;36mzmq.backend.cython.checkrc._check_rc (zmq/backend/cython/socket.c:9229)\u001b[0;34m()\u001b[0m\n",
            "\u001b[0;31mKeyboardInterrupt\u001b[0m: ",
            "\nDuring handling of the above exception, another exception occurred:\n",
            "\u001b[0;31mKeyboardInterrupt\u001b[0m                         Traceback (most recent call last)",
            "\u001b[0;32m<ipython-input-44-8d130cdf74ad>\u001b[0m in \u001b[0;36m<module>\u001b[0;34m()\u001b[0m\n\u001b[1;32m     18\u001b[0m \u001b[0;32mwhile\u001b[0m \u001b[0;32mTrue\u001b[0m\u001b[0;34m:\u001b[0m\u001b[0;34m\u001b[0m\u001b[0m\n\u001b[1;32m     19\u001b[0m    \u001b[0;32mtry\u001b[0m\u001b[0;34m:\u001b[0m\u001b[0;34m\u001b[0m\u001b[0m\n\u001b[0;32m---> 20\u001b[0;31m        \u001b[0mi_num\u001b[0m \u001b[0;34m=\u001b[0m \u001b[0mint\u001b[0m\u001b[0;34m(\u001b[0m\u001b[0minput\u001b[0m\u001b[0;34m(\u001b[0m\u001b[0;34m\"Enter a number: \"\u001b[0m\u001b[0;34m)\u001b[0m\u001b[0;34m)\u001b[0m\u001b[0;34m\u001b[0m\u001b[0m\n\u001b[0m\u001b[1;32m     21\u001b[0m        \u001b[0;32mif\u001b[0m \u001b[0mi_num\u001b[0m \u001b[0;34m<\u001b[0m \u001b[0mnumber\u001b[0m\u001b[0;34m:\u001b[0m\u001b[0;34m\u001b[0m\u001b[0m\n\u001b[1;32m     22\u001b[0m            \u001b[0;32mraise\u001b[0m \u001b[0mValueTooSmallError\u001b[0m\u001b[0;34m\u001b[0m\u001b[0m\n",
            "\u001b[0;32m~/anaconda3_420/lib/python3.5/site-packages/ipykernel/kernelbase.py\u001b[0m in \u001b[0;36mraw_input\u001b[0;34m(self, prompt)\u001b[0m\n\u001b[1;32m    700\u001b[0m             \u001b[0mself\u001b[0m\u001b[0;34m.\u001b[0m\u001b[0m_parent_ident\u001b[0m\u001b[0;34m,\u001b[0m\u001b[0;34m\u001b[0m\u001b[0m\n\u001b[1;32m    701\u001b[0m             \u001b[0mself\u001b[0m\u001b[0;34m.\u001b[0m\u001b[0m_parent_header\u001b[0m\u001b[0;34m,\u001b[0m\u001b[0;34m\u001b[0m\u001b[0m\n\u001b[0;32m--> 702\u001b[0;31m             \u001b[0mpassword\u001b[0m\u001b[0;34m=\u001b[0m\u001b[0;32mFalse\u001b[0m\u001b[0;34m,\u001b[0m\u001b[0;34m\u001b[0m\u001b[0m\n\u001b[0m\u001b[1;32m    703\u001b[0m         )\n\u001b[1;32m    704\u001b[0m \u001b[0;34m\u001b[0m\u001b[0m\n",
            "\u001b[0;32m~/anaconda3_420/lib/python3.5/site-packages/ipykernel/kernelbase.py\u001b[0m in \u001b[0;36m_input_request\u001b[0;34m(self, prompt, ident, parent, password)\u001b[0m\n\u001b[1;32m    730\u001b[0m             \u001b[0;32mexcept\u001b[0m \u001b[0mKeyboardInterrupt\u001b[0m\u001b[0;34m:\u001b[0m\u001b[0;34m\u001b[0m\u001b[0m\n\u001b[1;32m    731\u001b[0m                 \u001b[0;31m# re-raise KeyboardInterrupt, to truncate traceback\u001b[0m\u001b[0;34m\u001b[0m\u001b[0;34m\u001b[0m\u001b[0m\n\u001b[0;32m--> 732\u001b[0;31m                 \u001b[0;32mraise\u001b[0m \u001b[0mKeyboardInterrupt\u001b[0m\u001b[0;34m\u001b[0m\u001b[0m\n\u001b[0m\u001b[1;32m    733\u001b[0m             \u001b[0;32melse\u001b[0m\u001b[0;34m:\u001b[0m\u001b[0;34m\u001b[0m\u001b[0m\n\u001b[1;32m    734\u001b[0m                 \u001b[0;32mbreak\u001b[0m\u001b[0;34m\u001b[0m\u001b[0m\n",
            "\u001b[0;31mKeyboardInterrupt\u001b[0m: "
          ]
        }
      ]
    },
    {
      "metadata": {
        "trusted": true
      },
      "cell_type": "code",
      "source": "",
      "execution_count": null,
      "outputs": []
    }
  ],
  "metadata": {
    "anaconda-cloud": {},
    "kernelspec": {
      "name": "python3",
      "display_name": "Python 3",
      "language": "python"
    },
    "language_info": {
      "mimetype": "text/x-python",
      "nbconvert_exporter": "python",
      "name": "python",
      "pygments_lexer": "ipython3",
      "version": "3.5.4",
      "file_extension": ".py",
      "codemirror_mode": {
        "version": 3,
        "name": "ipython"
      }
    }
  },
  "nbformat": 4,
  "nbformat_minor": 1
}