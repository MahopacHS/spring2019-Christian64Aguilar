{
  "cells": [
    {
      "metadata": {},
      "cell_type": "markdown",
      "source": "# Now You Code 3: Twitter Hastag Detector\n\nLet's use Python's built-in string functions to help us write a program to detect Twitter hashtags in text. Here's how it should work:\n\nExample Run 1:\n\n```\nEnter Tweet: You got a 50 on the exam? #iamsad for you!\nHashtag: #iamsad\n```    \nExample Run 2:\n\n```\nEnter Tweet: #lol too funny #joke #haha\nHashtag: #lol\nHashtag: #joke\nHashtag: #haha\n```\n\nExample Run 3:\n\n```\nEnter Tweet: Happy birthday @mafudge\nHashtag: none\n```\n\nYour approach should be to split the text into words and for each word look for the hashtag `#` at the start of the word."
    },
    {
      "metadata": {},
      "cell_type": "markdown",
      "source": "## Step 1: Problem Analysis Program\n\nInputs:\n\nOutputs:\n\nAlgorithm (Steps in Program):\n\n\n"
    },
    {
      "metadata": {
        "trusted": true
      },
      "cell_type": "code",
      "source": "## Step 2: todo write code for full problem \ntext = \"\"\"Sample #line of #text to demonstrate #hashtags\nextraction. Here is some duplicate ones: #text #hashtags #tags.\"\"\"\n\n\ndef get_hashtags(text, order=False):\n    tags = set([item.strip(\"#.,-\\\"\\'&*^!\") for item in text.split() if (item.startswith(\"#\") and len(item) < 256)])\n    return sorted(tags) if order else tags\n\n\nprint(join(get_hashtags(text, True))\n",
      "execution_count": 6,
      "outputs": [
        {
          "output_type": "error",
          "ename": "SyntaxError",
          "evalue": "unexpected EOF while parsing (<ipython-input-6-16991d8c05b9>, line 11)",
          "traceback": [
            "\u001b[0;36m  File \u001b[0;32m\"<ipython-input-6-16991d8c05b9>\"\u001b[0;36m, line \u001b[0;32m11\u001b[0m\n\u001b[0;31m    print(join(get_hashtags(text, True))\u001b[0m\n\u001b[0m                                        ^\u001b[0m\n\u001b[0;31mSyntaxError\u001b[0m\u001b[0;31m:\u001b[0m unexpected EOF while parsing\n"
          ]
        }
      ]
    },
    {
      "metadata": {},
      "cell_type": "markdown",
      "source": "## Step 3: Questions\n\n1. What happens when the hashtag is not in the beginning of the word? ex. `it wights 64# that's #heavy`? Is this a problem? - the program will still read the word with the hashtag because the hashtag is connected to the word. \n\n2. Describe an approach for refactoring this code to use a function? What would the arguments and return values be? (Don't refactor the code, just describe your approach!) being able to not use outputs and inputs.\n\n3. Is there a way to write this program without a loop? - just don't use a loop.\n"
    },
    {
      "metadata": {},
      "cell_type": "markdown",
      "source": "## Reminder of Evaluation Criteria\n\n1. What the problem attempted (analysis, code, and answered questions) ?\n2. What the problem analysis thought out? (does the program match the plan?)\n3. Does the code execute without syntax error?\n4. Does the code solve the intended problem?\n5. Is the code well written? (easy to understand, modular, and self-documenting, handles errors)\n"
    }
  ],
  "metadata": {
    "anaconda-cloud": {},
    "kernelspec": {
      "name": "python3",
      "display_name": "Python 3",
      "language": "python"
    },
    "language_info": {
      "mimetype": "text/x-python",
      "nbconvert_exporter": "python",
      "name": "python",
      "file_extension": ".py",
      "version": "3.5.4",
      "pygments_lexer": "ipython3",
      "codemirror_mode": {
        "version": 3,
        "name": "ipython"
      }
    }
  },
  "nbformat": 4,
  "nbformat_minor": 1
}