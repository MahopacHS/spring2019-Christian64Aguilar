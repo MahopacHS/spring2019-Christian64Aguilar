{
  "cells": [
    {
      "metadata": {},
      "cell_type": "markdown",
      "source": "# Now You Code 1: Vote or Retire?\n\n# Part 1\n\nWrite a program to ask for your age as input, then output whether or not you can vote and whether your not you can retire. Let's assume the voting age is 18 or higher, and the retirement age is 65 or higher.\n\n**NOTE:** This program is making two seprate decisions, and thus should have two separate if else statements.\n\nExample Run:\n\n```\nEnter your age: 45\nYou can vote.\nYou cannot retire.\n```\n"
    },
    {
      "metadata": {
        "collapsed": true
      },
      "cell_type": "markdown",
      "source": "## Step 1: Problem Analysis\n\nInputs: ask for age (18 for voting) (65 for retirement) \n\nOutputs: if you can vote/retire or not\n\nAlgorithm (Steps in Program):\nask for age \ntell them if they're able to vote \ntell them if they're able to retire \n\n\n"
    },
    {
      "metadata": {
        "trusted": true
      },
      "cell_type": "code",
      "source": "voting_age = 18 \nretirement_age = 65\nage = int(input(\"enter your age:\")) \n\nif age >=18: \n     print(\"you can vote but can't retire\") \nelif age >=65:\n     print(\"you can vote and retire\")  \nelif age <18:\n     print(\"you cant vote and you cant retire\") \nelse: \n     age <65\n     print(\"you can vote but you cant retire\")\n",
      "execution_count": 1,
      "outputs": [
        {
          "output_type": "stream",
          "name": "stdout",
          "text": "enter your age:64\nyou can vote but can't retire\n"
        }
      ]
    },
    {
      "metadata": {},
      "cell_type": "markdown",
      "source": "# Part 2\n\nNow that you got it working,  re-write your code to handle bad input using Python's `try... except` statement:\n\nExample run:\n\n```\nEnter your age: threve\nThat's not an age!\n```\n\n**Note:** Exception handling is not part of our algorithm. It's a programming concern, not a problem-solving concern!"
    },
    {
      "metadata": {
        "trusted": true
      },
      "cell_type": "code",
      "source": "voting_age = 18 \nretirement_age = 65\ntry:\n\n    age = int(input(\"enter your age:\")) \n\n    if age >=18: \n         print(\"you can vote but can't retire\") \n    elif age >=65:\n         print(\"you can vote and retire\")  \n    elif age <18:\n         print(\"you cant vote and you cant retire\") \n    else: \n         age <65\n         print(\"you can vote and retire\") \nexcept: \n    print(\"INPUT A VALUE\")",
      "execution_count": 1,
      "outputs": [
        {
          "output_type": "stream",
          "name": "stdout",
          "text": "enter your age:60\nyou can vote but can't retire\n"
        }
      ]
    },
    {
      "metadata": {},
      "cell_type": "markdown",
      "source": "## Step 3: Questions\n\n1. What specific Python Error are we handling (please provide the name of it)? - syntax errors\n2. What happens when you enter an age of `-50`? - if you put in the age -50 it will run saying that you cant vote or retire because anything less than eighteen cannot vote Does the program still run?- yes the program still runs  Fix your program so that it says `That's not an age` when a value less than zero is entered.\n3. How many times (at minimum) must we execute this program and check the results before we can be reasonably assured it is correct? - as many times until it functions correctly\n"
    },
    {
      "metadata": {},
      "cell_type": "markdown",
      "source": "## Reminder of Evaluation Criteria\n\n1. What the problem attempted (analysis, code, and answered questions) ?\n2. What the problem analysis thought out? (does the program match the plan?)\n3. Does the code execute without syntax error?\n4. Does the code solve the intended problem?\n5. Is the code well written? (easy to understand, modular, and self-documenting, handles errors)\n"
    },
    {
      "metadata": {
        "collapsed": true,
        "trusted": false
      },
      "cell_type": "code",
      "source": "",
      "execution_count": null,
      "outputs": []
    }
  ],
  "metadata": {
    "anaconda-cloud": {},
    "kernelspec": {
      "name": "python3",
      "display_name": "Python 3",
      "language": "python"
    },
    "language_info": {
      "mimetype": "text/x-python",
      "nbconvert_exporter": "python",
      "name": "python",
      "pygments_lexer": "ipython3",
      "version": "3.5.4",
      "file_extension": ".py",
      "codemirror_mode": {
        "version": 3,
        "name": "ipython"
      }
    }
  },
  "nbformat": 4,
  "nbformat_minor": 1
}