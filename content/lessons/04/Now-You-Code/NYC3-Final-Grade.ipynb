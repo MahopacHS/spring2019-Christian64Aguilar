{
  "cells": [
    {
      "metadata": {},
      "cell_type": "markdown",
      "source": "# Now You Code 3: Final Grade in IST256\n\n# Part 1\n\nOur Course Syllabus has a grading scale here:\n\nhttp://ist256.syr.edu/syllabus/#grading-scale\n\nWrite a Python program to input a number of points earned out of 600 and then\noutputs the registrar letter grade. \n\nFor example:\n\n    IST256 Grade Calculator\n    Enter total points out of 600:  550\n    Grade: A- \n"
    },
    {
      "metadata": {
        "collapsed": true
      },
      "cell_type": "markdown",
      "source": "## Step 1: Problem Analysis\n\nInputs: points \n\nOutputs: grades\n\nAlgorithm (Steps in Program):\n\n\n"
    },
    {
      "metadata": {
        "trusted": true
      },
      "cell_type": "code",
      "source": "points=int(input(\"enter total points out of 600 \")) \nif (points>=570): \n    print(\"Grade:A\") \nelif (points>=540 and points<570):  \n    print(\"Grade:A-\") \nelif (points>=510 and points<540): \n    print(\"Grade:B+\") \nelif (points>=480 and points<510): \n    print(\"grade:B\") \nelif (points>=450 and points<480): \n    print(\"Grade:B-\") \nelif (points>=420 and points<450): \n    print(\"grade:C+\") \nelif (points>=390 and points<420): \n    print(\"grade:C\") \nelif (points>=360 and points<390): \n    print(\"grade:C-\")\nelif (points>=300 and points<360): \n    print(\"grade:D\")\nelif (points<300): \n    print(\"grade:F\") ",
      "execution_count": 20,
      "outputs": [
        {
          "output_type": "stream",
          "name": "stdout",
          "text": "enter total points out of 600 500\ngrade:B\n"
        }
      ]
    },
    {
      "metadata": {},
      "cell_type": "markdown",
      "source": "# Part 2\n\nNow that you got it working,  re-write your code to handle bad input. Specifically:\n\n\n- non integer values\n- integer values outside the 0 to 600 range.\n\n**Note:** Exception handling is not part of our algorithm. It's a programming concern, not a problem-solving concern!"
    },
    {
      "metadata": {
        "trusted": true
      },
      "cell_type": "code",
      "source": "points=int(input(\"enter total points out of 600 \")) \nif (points == 600): \n    print(\"Grade:A\") \nelif (points>=540 and points<570):  \n    print(\"Grade:A-\") \nelif (points>=510 and points<540): \n    print(\"Grade:B+\") \nelif (points>=480 and points<510): \n    print(\"grade:B\") \nelif (points>=450 and points<480): \n    print(\"Grade:B-\") \nelif (points>=420 and points<450): \n    print(\"grade:C+\") \nelif (points>=390 and points<420): \n    print(\"grade:C\") \nelif (points>=360 and points<390): \n    print(\"grade:C-\")\nelif (points>=300 and points<360): \n    print(\"grade:D\")\nelif (points<300): \n    print(\"grade:F\") \nelif (points>600):\n    print(\"incorrect number\") ",
      "execution_count": 19,
      "outputs": [
        {
          "output_type": "stream",
          "name": "stdout",
          "text": "enter total points out of 600 900\nincorrect number\n"
        }
      ]
    },
    {
      "metadata": {},
      "cell_type": "markdown",
      "source": "## Step 3: Questions\n\n1. What specific Python Error are we handling (please provide the name of it)? - syntax error\n2. How many times must you execute this program and check the output before you canbe reasonably assured your code is correct? Explain. - until there are no more \n3. When testing this program do you think its more important to test numbers in the middle of the grade range or exactly on the boundary between one grade range and the next. Justify your response. - between the grade range and the next so that you wont need to create more code lin es than you need to "
    },
    {
      "metadata": {},
      "cell_type": "markdown",
      "source": "## Reminder of Evaluation Criteria\n\n1. What the problem attempted (analysis, code, and answered questions) ?\n2. What the problem analysis thought out? (does the program match the plan?)\n3. Does the code execute without syntax error?\n4. Does the code solve the intended problem?\n5. Is the code well written? (easy to understand, modular, and self-documenting, handles errors)\n"
    }
  ],
  "metadata": {
    "anaconda-cloud": {},
    "kernelspec": {
      "name": "python3",
      "display_name": "Python 3",
      "language": "python"
    },
    "language_info": {
      "mimetype": "text/x-python",
      "nbconvert_exporter": "python",
      "name": "python",
      "pygments_lexer": "ipython3",
      "version": "3.5.4",
      "file_extension": ".py",
      "codemirror_mode": {
        "version": 3,
        "name": "ipython"
      }
    }
  },
  "nbformat": 4,
  "nbformat_minor": 1
}