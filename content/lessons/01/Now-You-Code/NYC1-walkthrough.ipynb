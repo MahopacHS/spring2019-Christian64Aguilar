{
  "cells": [
    {
      "metadata": {},
      "cell_type": "markdown",
      "source": "# Now You Code 1: Check Divider\n\nThis program will help you divide a dinner check evenly among the guests. You enter the number of diners and the amount of the check then the program will output the amount each diner should contribute to the check. \n\nExample run:\n\n```\nPython Check Divider\nHow many people are dining? 4\nWhat is the total amount of the check? 60\nEach person should contribute 15.0 dollars.\n```"
    },
    {
      "metadata": {
        "collapsed": true
      },
      "cell_type": "markdown",
      "source": "## Step 1: Problem Analysis\n\nInputs: number of people and the total of the check\n\n\nOutputs:check divider and what should each person contibute\n\nAlgorithm (Steps in Program): \n\n\n"
    },
    {
      "metadata": {
        "trusted": true
      },
      "cell_type": "markdown",
      "source": "I dont know what happened but the in [] disapered from this one\n\npeople = int(input(\"Please enter number of people: \"))\nif age = 4: \n    print(\"ok here is your table!\")\nelse:    \n    print(\"sorry i dont have a reservation for three.\") \n\n\ncheck = int(input(\"what is the total amount in the check: \"))\nif check = 60: \n    print(\"thank you come again!\")\nelse:\n    print(\"You don't have enough.\") \n\ncontribute = int(input(\"what should each person contirbute: \"))\nif contribute = 60: \n    print(\"we are equal!\")\nelse:\n    print(\"You are cheap.\")\n    \n   "
    },
    {
      "metadata": {
        "collapsed": true
      },
      "cell_type": "markdown",
      "source": "#### Step 3: Questions\n\n1. What happens when you enter `TWO` instead of `2` for the number of people dining? or 60 instead of $60? \n(as for the money 60 and $60 have equal value of 60 but as for 2 and two will become a error bcause its not the correct format)\n\n2. Why do you think this happens? because your looking for the number two not the word and for money you need \nI think this happens because its asking for an integer value not so much an character value so its looking for a number not a word as for 60/$60 i belive it wont matter cause 60=60\n\n3.Explain what happens when you enter `0.5` for the number of people dining? \nit won't count because its a decimal not a whole number \n\n\n"
    },
    {
      "metadata": {},
      "cell_type": "markdown",
      "source": "## Reminder of Evaluation Criteria\n\n1. What the problem attempted (analysis, code, and answered questions) ?\n2. What the problem analysis thought out? (does the program match the plan?)\n3. Does the code execute without syntax error?\n4. Does the code solve the intended problem?\n5. Is the code well written? (easy to understand, modular, and self-documenting, handles errors)\n"
    },
    {
      "metadata": {
        "collapsed": true,
        "trusted": false
      },
      "cell_type": "code",
      "source": "",
      "execution_count": null,
      "outputs": []
    }
  ],
  "metadata": {
    "anaconda-cloud": {},
    "kernelspec": {
      "name": "python3",
      "display_name": "Python 3",
      "language": "python"
    },
    "language_info": {
      "mimetype": "text/x-python",
      "nbconvert_exporter": "python",
      "name": "python",
      "file_extension": ".py",
      "version": "3.5.4",
      "pygments_lexer": "ipython3",
      "codemirror_mode": {
        "version": 3,
        "name": "ipython"
      }
    }
  },
  "nbformat": 4,
  "nbformat_minor": 1
}